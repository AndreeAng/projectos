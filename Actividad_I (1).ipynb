{
  "cells": [
    {
      "cell_type": "markdown",
      "metadata": {
        "id": "EO4MrViJjNp5"
      },
      "source": [
        "# <img style=\"float: left; padding-right: 20px; height: 70px\" src=\"https://scontent.flpb2-1.fna.fbcdn.net/v/t39.30808-6/333037578_535368228681036_1718744419186811485_n.jpg?_nc_cat=101&ccb=1-7&_nc_sid=09cbfe&_nc_ohc=Y0wrgOHt3UIAX_CTUKQ&_nc_ht=scontent.flpb2-1.fna&oh=00_AfBfGzpo0-x8gU11VFnWwNRJ-1tOK9hv1D7JAHfZhFfzOw&oe=648C289F\"> Herramientas Básicas de Visualización de Datos\n",
        "\n",
        "## Actividad `I` 17 de Junio\n",
        "\n",
        "**Universidad Privada Boliviana**<br/>\n",
        "**Diplomado en Machine Learning y Ciencia de Datos 2-2023**<br/>\n",
        "**Junio 2023**<br/>\n"
      ]
    },
    {
      "cell_type": "markdown",
      "metadata": {
        "id": "kuxgrE4_jNp7"
      },
      "source": [
        "## Manipulación de listas usando bucles de python.\n",
        "> La indexación es muy útil para manipular listas. Sin embargo, las selecciones específicas de una lista necesitan que iteremos sobre cada elemento de la lista antes de hacer una selección."
      ]
    },
    {
      "cell_type": "code",
      "execution_count": 1,
      "metadata": {
        "id": "tdNwZJTrjNp7"
      },
      "outputs": [],
      "source": [
        "# Funcion de ayuda.\n",
        "# Hacer correr este bloque sin modificar el codigo\n",
        "import random\n",
        "test_list = [i for i in range(2000)]\n",
        "test_list = random.sample(test_list,1000)\n",
        "\n",
        "chess_board = [8*['W'],8*['W'],8*[' '],8*[' '],8*[' '],8*[' '],8*['B'],8*['B']]"
      ]
    },
    {
      "cell_type": "code",
      "execution_count": 3,
      "metadata": {
        "colab": {
          "base_uri": "https://localhost:8080/"
        },
        "id": "B_s4-QerjNp8",
        "outputId": "064bf2d3-a5f7-4696-ccab-aa68dff26a36"
      },
      "outputs": [
        {
          "output_type": "stream",
          "name": "stdout",
          "text": [
            "866\n",
            "1000\n",
            "873\n",
            "669\n",
            "1561\n",
            "245\n",
            "1050\n",
            "952\n",
            "47\n",
            "1886\n"
          ]
        }
      ],
      "source": [
        "# imprimir los primeros 10 elementos de `test_list`\n",
        "for i in range(10):\n",
        "  print(test_list[i])"
      ]
    },
    {
      "cell_type": "code",
      "execution_count": 5,
      "metadata": {
        "colab": {
          "base_uri": "https://localhost:8080/"
        },
        "id": "sHo8x-t1jNp8",
        "outputId": "1b1d2327-4ddf-4702-82a6-19fd47a6ba84"
      },
      "outputs": [
        {
          "output_type": "stream",
          "name": "stdout",
          "text": [
            "Test list:  866\n",
            "Test list:  1000\n",
            "Test list:  873\n",
            "Test list:  669\n",
            "Test list:  1561\n",
            "Test list:  245\n",
            "Test list:  1050\n",
            "Test list:  952\n",
            "Test list:  47\n",
            "Test list:  1886\n",
            "Sorted list:  4\n",
            "Sorted list:  10\n",
            "Sorted list:  15\n",
            "Sorted list:  16\n",
            "Sorted list:  17\n",
            "Sorted list:  19\n",
            "Sorted list:  20\n",
            "Sorted list:  21\n",
            "Sorted list:  22\n",
            "Sorted list:  26\n"
          ]
        }
      ],
      "source": [
        "#Ordene el contenido de test list, llame esta variable sorted_list\n",
        "# verifique el contenido de `test_list` después de ordenarlo\n",
        "sorted_list = sorted(test_list)\n",
        "for i in range(10):\n",
        "  print(\"Test list: \", test_list[i])\n",
        "# Imprime los primeros diez elementos de sorted_list\n",
        "for i in range(10):\n",
        "  print(\"Sorted list: \", sorted_list[i])"
      ]
    },
    {
      "cell_type": "markdown",
      "metadata": {
        "id": "dU6b_PZsjNp9"
      },
      "source": [
        "### ⏸ ¿Qué método de lista puede usar para agregar un solo elemento a la lista?\n",
        "\n",
        "#### A. `append()`\n",
        "#### B. `extend()`\n",
        "#### C. `add()`\n",
        "#### D. `pop()`\n"
      ]
    },
    {
      "cell_type": "code",
      "execution_count": null,
      "metadata": {
        "id": "hyHyshXPjNp9"
      },
      "outputs": [],
      "source": [
        "\n",
        "# Envíe una opción de respuesta como una cadena a continuación (por ejemplo, si elige la opción A, escriba 'A')\n",
        "answer1 = 'A'"
      ]
    },
    {
      "cell_type": "code",
      "execution_count": 7,
      "metadata": {
        "colab": {
          "base_uri": "https://localhost:8080/"
        },
        "id": "ABb2pvgxjNp9",
        "outputId": "06d6db1e-5870-44a4-c85d-3465960df4ad"
      },
      "outputs": [
        {
          "output_type": "stream",
          "name": "stdout",
          "text": [
            "[0, 2, 4, 6, 8, 10, 12, 14, 16, 18]\n"
          ]
        }
      ],
      "source": [
        "# Esta vez, use un bucle for para encontrar todos los números pares y agréguelos a 'even_list'\n",
        "even_list = []\n",
        "for i in range(len(test_list)):\n",
        "  if i % 2 == 0:\n",
        "    even_list.append(i)\n",
        "\n",
        "# Comprueba si la lista consta solo de números pares\n",
        "print(even_list[:10])"
      ]
    },
    {
      "cell_type": "code",
      "execution_count": 8,
      "metadata": {
        "colab": {
          "base_uri": "https://localhost:8080/"
        },
        "id": "olQ8IkDAjNp9",
        "outputId": "ecf29a5d-3596-421b-d0ec-7cddad42b9a8"
      },
      "outputs": [
        {
          "output_type": "stream",
          "name": "stdout",
          "text": [
            "[1, 3, 5, 7, 9, 11, 13, 15, 17, 19]\n"
          ]
        }
      ],
      "source": [
        "# Nuevamente use un ciclo para encontrar todos los números impares y agréguelos a 'odd_list'\n",
        "odd_list = []\n",
        "for i in range(len(test_list)):\n",
        "  if i % 2 == 1:\n",
        "    odd_list.append(i)\n",
        "\n",
        "# Comprueba si la lista consta solo de enteros impares\n",
        "print(odd_list[:10])"
      ]
    },
    {
      "cell_type": "markdown",
      "metadata": {
        "id": "-UfeeKD2jNp9"
      },
      "source": [
        "### 🍲 Para el siguiente código, ¿cuándo se imprimirá `¡Buena elección!`?\n",
        "\n",
        "```python\n",
        "while True:\n",
        "    name = input('Cual es tu color favorito?')\n",
        "    if name == 'rojo':\n",
        "        break\n",
        "print(\"¡Buena elección!\")\n",
        "```\n",
        "#### A. el usuario ingresa `rojo`\n",
        "#### B. el usuario usa `command/ctrl + C` para salir del bucle\n",
        "#### C. entradas de usuario `Rojo`\n",
        "#### Todo lo anterior"
      ]
    },
    {
      "cell_type": "code",
      "execution_count": 11,
      "metadata": {
        "id": "heTkTijAjNp-"
      },
      "outputs": [],
      "source": [
        "# Envíe una opción de respuesta como un string (por ejemplo, si elige la opción A, escriba 'A')\n",
        "answer2 = 'A'"
      ]
    }
  ],
  "metadata": {
    "kernelspec": {
      "display_name": "Python 3.10.4 64-bit",
      "language": "python",
      "name": "python3"
    },
    "language_info": {
      "codemirror_mode": {
        "name": "ipython",
        "version": 3
      },
      "file_extension": ".py",
      "mimetype": "text/x-python",
      "name": "python",
      "nbconvert_exporter": "python",
      "pygments_lexer": "ipython3",
      "version": "3.10.4"
    },
    "vscode": {
      "interpreter": {
        "hash": "f66e3edf856e3e4a3652763ddb6c2ab1c25665e5b9e1fed087bb1a040433f3bb"
      }
    },
    "colab": {
      "provenance": []
    }
  },
  "nbformat": 4,
  "nbformat_minor": 0
}